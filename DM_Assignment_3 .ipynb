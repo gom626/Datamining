{
 "cells": [
  {
   "cell_type": "code",
   "execution_count": 1,
   "metadata": {
    "colab": {},
    "colab_type": "code",
    "id": "2IN9OeIfwFGa"
   },
   "outputs": [],
   "source": [
    "import numpy as np\n",
    "import pandas as pd"
   ]
  },
  {
   "cell_type": "markdown",
   "metadata": {
    "colab_type": "text",
    "id": "M8xp1PzfwFGe"
   },
   "source": [
    "# Wine dataset 불러오기"
   ]
  },
  {
   "cell_type": "code",
   "execution_count": 2,
   "metadata": {
    "colab": {
     "base_uri": "https://localhost:8080/",
     "height": 85
    },
    "colab_type": "code",
    "id": "xTJ12aq6wFGf",
    "outputId": "18914998-bfb4-4648-d7c1-5eac27204298"
   },
   "outputs": [
    {
     "name": "stdout",
     "output_type": "stream",
     "text": [
      "(142, 13)\n",
      "(36, 13)\n",
      "(142,)\n",
      "(36,)\n"
     ]
    }
   ],
   "source": [
    "from sklearn.datasets import load_wine\n",
    "from sklearn.model_selection import train_test_split\n",
    "\n",
    "wine = load_wine()\n",
    "X_train, X_test, Y_train, Y_test = train_test_split(wine.data, wine.target, random_state=777, test_size=0.2)\n",
    "print(X_train.shape)\n",
    "print(X_test.shape)\n",
    "print(Y_train.shape)\n",
    "print(Y_test.shape)"
   ]
  },
  {
   "cell_type": "markdown",
   "metadata": {
    "colab_type": "text",
    "id": "Qp7Vw3OuwFGj"
   },
   "source": [
    "# Wine dataset (참고용)"
   ]
  },
  {
   "cell_type": "code",
   "execution_count": 3,
   "metadata": {
    "colab": {
     "base_uri": "https://localhost:8080/",
     "height": 1000
    },
    "colab_type": "code",
    "id": "CW9DwU2wwFGk",
    "outputId": "a98bef08-62c5-4dc0-9157-5fdc9f426303",
    "scrolled": true
   },
   "outputs": [
    {
     "name": "stdout",
     "output_type": "stream",
     "text": [
      ".. _wine_dataset:\n",
      "\n",
      "Wine recognition dataset\n",
      "------------------------\n",
      "\n",
      "**Data Set Characteristics:**\n",
      "\n",
      "    :Number of Instances: 178 (50 in each of three classes)\n",
      "    :Number of Attributes: 13 numeric, predictive attributes and the class\n",
      "    :Attribute Information:\n",
      " \t\t- Alcohol\n",
      " \t\t- Malic acid\n",
      " \t\t- Ash\n",
      "\t\t- Alcalinity of ash  \n",
      " \t\t- Magnesium\n",
      "\t\t- Total phenols\n",
      " \t\t- Flavanoids\n",
      " \t\t- Nonflavanoid phenols\n",
      " \t\t- Proanthocyanins\n",
      "\t\t- Color intensity\n",
      " \t\t- Hue\n",
      " \t\t- OD280/OD315 of diluted wines\n",
      " \t\t- Proline\n",
      "\n",
      "    - class:\n",
      "            - class_0\n",
      "            - class_1\n",
      "            - class_2\n",
      "\t\t\n",
      "    :Summary Statistics:\n",
      "    \n",
      "    ============================= ==== ===== ======= =====\n",
      "                                   Min   Max   Mean     SD\n",
      "    ============================= ==== ===== ======= =====\n",
      "    Alcohol:                      11.0  14.8    13.0   0.8\n",
      "    Malic Acid:                   0.74  5.80    2.34  1.12\n",
      "    Ash:                          1.36  3.23    2.36  0.27\n",
      "    Alcalinity of Ash:            10.6  30.0    19.5   3.3\n",
      "    Magnesium:                    70.0 162.0    99.7  14.3\n",
      "    Total Phenols:                0.98  3.88    2.29  0.63\n",
      "    Flavanoids:                   0.34  5.08    2.03  1.00\n",
      "    Nonflavanoid Phenols:         0.13  0.66    0.36  0.12\n",
      "    Proanthocyanins:              0.41  3.58    1.59  0.57\n",
      "    Colour Intensity:              1.3  13.0     5.1   2.3\n",
      "    Hue:                          0.48  1.71    0.96  0.23\n",
      "    OD280/OD315 of diluted wines: 1.27  4.00    2.61  0.71\n",
      "    Proline:                       278  1680     746   315\n",
      "    ============================= ==== ===== ======= =====\n",
      "\n",
      "    :Missing Attribute Values: None\n",
      "    :Class Distribution: class_0 (59), class_1 (71), class_2 (48)\n",
      "    :Creator: R.A. Fisher\n",
      "    :Donor: Michael Marshall (MARSHALL%PLU@io.arc.nasa.gov)\n",
      "    :Date: July, 1988\n",
      "\n",
      "This is a copy of UCI ML Wine recognition datasets.\n",
      "https://archive.ics.uci.edu/ml/machine-learning-databases/wine/wine.data\n",
      "\n",
      "The data is the results of a chemical analysis of wines grown in the same\n",
      "region in Italy by three different cultivators. There are thirteen different\n",
      "measurements taken for different constituents found in the three types of\n",
      "wine.\n",
      "\n",
      "Original Owners: \n",
      "\n",
      "Forina, M. et al, PARVUS - \n",
      "An Extendible Package for Data Exploration, Classification and Correlation. \n",
      "Institute of Pharmaceutical and Food Analysis and Technologies,\n",
      "Via Brigata Salerno, 16147 Genoa, Italy.\n",
      "\n",
      "Citation:\n",
      "\n",
      "Lichman, M. (2013). UCI Machine Learning Repository\n",
      "[https://archive.ics.uci.edu/ml]. Irvine, CA: University of California,\n",
      "School of Information and Computer Science. \n",
      "\n",
      ".. topic:: References\n",
      "\n",
      "  (1) S. Aeberhard, D. Coomans and O. de Vel, \n",
      "  Comparison of Classifiers in High Dimensional Settings, \n",
      "  Tech. Rep. no. 92-02, (1992), Dept. of Computer Science and Dept. of  \n",
      "  Mathematics and Statistics, James Cook University of North Queensland. \n",
      "  (Also submitted to Technometrics). \n",
      "\n",
      "  The data was used with many others for comparing various \n",
      "  classifiers. The classes are separable, though only RDA \n",
      "  has achieved 100% correct classification. \n",
      "  (RDA : 100%, QDA 99.4%, LDA 98.9%, 1NN 96.1% (z-transformed data)) \n",
      "  (All results using the leave-one-out technique) \n",
      "\n",
      "  (2) S. Aeberhard, D. Coomans and O. de Vel, \n",
      "  \"THE CLASSIFICATION PERFORMANCE OF RDA\" \n",
      "  Tech. Rep. no. 92-01, (1992), Dept. of Computer Science and Dept. of \n",
      "  Mathematics and Statistics, James Cook University of North Queensland. \n",
      "  (Also submitted to Journal of Chemometrics).\n",
      "\n"
     ]
    },
    {
     "data": {
      "text/html": [
       "<div>\n",
       "<style scoped>\n",
       "    .dataframe tbody tr th:only-of-type {\n",
       "        vertical-align: middle;\n",
       "    }\n",
       "\n",
       "    .dataframe tbody tr th {\n",
       "        vertical-align: top;\n",
       "    }\n",
       "\n",
       "    .dataframe thead th {\n",
       "        text-align: right;\n",
       "    }\n",
       "</style>\n",
       "<table border=\"1\" class=\"dataframe\">\n",
       "  <thead>\n",
       "    <tr style=\"text-align: right;\">\n",
       "      <th></th>\n",
       "      <th>alcohol</th>\n",
       "      <th>malic_acid</th>\n",
       "      <th>ash</th>\n",
       "      <th>alcalinity_of_ash</th>\n",
       "      <th>magnesium</th>\n",
       "      <th>total_phenols</th>\n",
       "      <th>flavanoids</th>\n",
       "      <th>nonflavanoid_phenols</th>\n",
       "      <th>proanthocyanins</th>\n",
       "      <th>color_intensity</th>\n",
       "      <th>hue</th>\n",
       "      <th>od280/od315_of_diluted_wines</th>\n",
       "      <th>proline</th>\n",
       "      <th>class</th>\n",
       "    </tr>\n",
       "  </thead>\n",
       "  <tbody>\n",
       "    <tr>\n",
       "      <th>0</th>\n",
       "      <td>14.23</td>\n",
       "      <td>1.71</td>\n",
       "      <td>2.43</td>\n",
       "      <td>15.6</td>\n",
       "      <td>127.0</td>\n",
       "      <td>2.80</td>\n",
       "      <td>3.06</td>\n",
       "      <td>0.28</td>\n",
       "      <td>2.29</td>\n",
       "      <td>5.64</td>\n",
       "      <td>1.04</td>\n",
       "      <td>3.92</td>\n",
       "      <td>1065.0</td>\n",
       "      <td>class_0</td>\n",
       "    </tr>\n",
       "    <tr>\n",
       "      <th>1</th>\n",
       "      <td>13.20</td>\n",
       "      <td>1.78</td>\n",
       "      <td>2.14</td>\n",
       "      <td>11.2</td>\n",
       "      <td>100.0</td>\n",
       "      <td>2.65</td>\n",
       "      <td>2.76</td>\n",
       "      <td>0.26</td>\n",
       "      <td>1.28</td>\n",
       "      <td>4.38</td>\n",
       "      <td>1.05</td>\n",
       "      <td>3.40</td>\n",
       "      <td>1050.0</td>\n",
       "      <td>class_0</td>\n",
       "    </tr>\n",
       "    <tr>\n",
       "      <th>2</th>\n",
       "      <td>13.16</td>\n",
       "      <td>2.36</td>\n",
       "      <td>2.67</td>\n",
       "      <td>18.6</td>\n",
       "      <td>101.0</td>\n",
       "      <td>2.80</td>\n",
       "      <td>3.24</td>\n",
       "      <td>0.30</td>\n",
       "      <td>2.81</td>\n",
       "      <td>5.68</td>\n",
       "      <td>1.03</td>\n",
       "      <td>3.17</td>\n",
       "      <td>1185.0</td>\n",
       "      <td>class_0</td>\n",
       "    </tr>\n",
       "    <tr>\n",
       "      <th>3</th>\n",
       "      <td>14.37</td>\n",
       "      <td>1.95</td>\n",
       "      <td>2.50</td>\n",
       "      <td>16.8</td>\n",
       "      <td>113.0</td>\n",
       "      <td>3.85</td>\n",
       "      <td>3.49</td>\n",
       "      <td>0.24</td>\n",
       "      <td>2.18</td>\n",
       "      <td>7.80</td>\n",
       "      <td>0.86</td>\n",
       "      <td>3.45</td>\n",
       "      <td>1480.0</td>\n",
       "      <td>class_0</td>\n",
       "    </tr>\n",
       "    <tr>\n",
       "      <th>4</th>\n",
       "      <td>13.24</td>\n",
       "      <td>2.59</td>\n",
       "      <td>2.87</td>\n",
       "      <td>21.0</td>\n",
       "      <td>118.0</td>\n",
       "      <td>2.80</td>\n",
       "      <td>2.69</td>\n",
       "      <td>0.39</td>\n",
       "      <td>1.82</td>\n",
       "      <td>4.32</td>\n",
       "      <td>1.04</td>\n",
       "      <td>2.93</td>\n",
       "      <td>735.0</td>\n",
       "      <td>class_0</td>\n",
       "    </tr>\n",
       "  </tbody>\n",
       "</table>\n",
       "</div>"
      ],
      "text/plain": [
       "   alcohol  malic_acid   ash  alcalinity_of_ash  magnesium  total_phenols  \\\n",
       "0    14.23        1.71  2.43               15.6      127.0           2.80   \n",
       "1    13.20        1.78  2.14               11.2      100.0           2.65   \n",
       "2    13.16        2.36  2.67               18.6      101.0           2.80   \n",
       "3    14.37        1.95  2.50               16.8      113.0           3.85   \n",
       "4    13.24        2.59  2.87               21.0      118.0           2.80   \n",
       "\n",
       "   flavanoids  nonflavanoid_phenols  proanthocyanins  color_intensity   hue  \\\n",
       "0        3.06                  0.28             2.29             5.64  1.04   \n",
       "1        2.76                  0.26             1.28             4.38  1.05   \n",
       "2        3.24                  0.30             2.81             5.68  1.03   \n",
       "3        3.49                  0.24             2.18             7.80  0.86   \n",
       "4        2.69                  0.39             1.82             4.32  1.04   \n",
       "\n",
       "   od280/od315_of_diluted_wines  proline    class  \n",
       "0                          3.92   1065.0  class_0  \n",
       "1                          3.40   1050.0  class_0  \n",
       "2                          3.17   1185.0  class_0  \n",
       "3                          3.45   1480.0  class_0  \n",
       "4                          2.93    735.0  class_0  "
      ]
     },
     "execution_count": 3,
     "metadata": {},
     "output_type": "execute_result"
    }
   ],
   "source": [
    "df = pd.DataFrame(wine.data, columns=wine.feature_names)\n",
    "sy = pd.Series(wine.target, dtype=\"category\")\n",
    "sy = sy.cat.rename_categories(wine.target_names)\n",
    "df['class'] = sy\n",
    "print(wine.DESCR)\n",
    "df.head()"
   ]
  },
  {
   "cell_type": "markdown",
   "metadata": {
    "colab_type": "text",
    "id": "YiRLeTwYwFGn"
   },
   "source": [
    "# # Problem 1\n",
    "ID3 Decision Tree classifier.\n",
    "- decision-tree-id3 패키지를 pip install을 통해 설치하시오.\n",
    "- 위의 train 데이터(X_train, Y_train)를 이용하여 ID3 classifier 모델을 학습시키시오.\n",
    "- 위의 test 데이터(X_test, Y_test)를 이용해 정확도를 측정 후 출력하시오."
   ]
  },
  {
   "cell_type": "code",
   "execution_count": 36,
   "metadata": {
    "colab": {
     "base_uri": "https://localhost:8080/",
     "height": 289
    },
    "colab_type": "code",
    "id": "Z-GeqATKwFGn",
    "outputId": "f60d5a8c-fb24-49a5-9bc6-cfee67ed5972"
   },
   "outputs": [
    {
     "name": "stdout",
     "output_type": "stream",
     "text": [
      "Requirement already satisfied: decision-tree-id3 in /Users/Seungmin/opt/anaconda3/lib/python3.7/site-packages (0.1.2)\n",
      "Requirement already satisfied: nose>=1.1.2 in /Users/Seungmin/opt/anaconda3/lib/python3.7/site-packages (from decision-tree-id3) (1.3.7)\n",
      "Requirement already satisfied: scikit-learn>=0.17 in /Users/Seungmin/opt/anaconda3/lib/python3.7/site-packages (from decision-tree-id3) (0.22.1)\n",
      "Requirement already satisfied: numpy>=1.6.1 in /Users/Seungmin/opt/anaconda3/lib/python3.7/site-packages (from decision-tree-id3) (1.18.1)\n",
      "Requirement already satisfied: joblib>=0.11 in /Users/Seungmin/opt/anaconda3/lib/python3.7/site-packages (from scikit-learn>=0.17->decision-tree-id3) (0.14.1)\n",
      "Requirement already satisfied: scipy>=0.17.0 in /Users/Seungmin/opt/anaconda3/lib/python3.7/site-packages (from scikit-learn>=0.17->decision-tree-id3) (1.4.1)\n",
      "Requirement already up-to-date: decision-tree-id3 in /Users/Seungmin/opt/anaconda3/lib/python3.7/site-packages (0.1.2)\n",
      "Requirement already satisfied, skipping upgrade: nose>=1.1.2 in /Users/Seungmin/opt/anaconda3/lib/python3.7/site-packages (from decision-tree-id3) (1.3.7)\n",
      "Requirement already satisfied, skipping upgrade: scikit-learn>=0.17 in /Users/Seungmin/opt/anaconda3/lib/python3.7/site-packages (from decision-tree-id3) (0.22.1)\n",
      "Requirement already satisfied, skipping upgrade: numpy>=1.6.1 in /Users/Seungmin/opt/anaconda3/lib/python3.7/site-packages (from decision-tree-id3) (1.18.1)\n",
      "Requirement already satisfied, skipping upgrade: scipy>=0.17.0 in /Users/Seungmin/opt/anaconda3/lib/python3.7/site-packages (from scikit-learn>=0.17->decision-tree-id3) (1.4.1)\n",
      "Requirement already satisfied, skipping upgrade: joblib>=0.11 in /Users/Seungmin/opt/anaconda3/lib/python3.7/site-packages (from scikit-learn>=0.17->decision-tree-id3) (0.14.1)\n"
     ]
    }
   ],
   "source": [
    "##########Put your installation code here###############\n",
    "!pip install decision-tree-id3\n",
    "!pip install --upgrade decision-tree-id3\n",
    "########################################################"
   ]
  },
  {
   "cell_type": "code",
   "execution_count": 37,
   "metadata": {
    "colab": {
     "base_uri": "https://localhost:8080/",
     "height": 34
    },
    "colab_type": "code",
    "id": "SxJFP7QJwFGq",
    "outputId": "b429f305-1ef5-485a-d4e2-52bc6b376631"
   },
   "outputs": [
    {
     "name": "stdout",
     "output_type": "stream",
     "text": [
      "Test data prediction accuracy (ID3) : 0.944444\n"
     ]
    }
   ],
   "source": [
    "from id3 import Id3Estimator\n",
    "\n",
    "ID3_model = None\n",
    "accuracy = None\n",
    "############# Put your code here ################\n",
    "ID3_model = Id3Estimator()\n",
    "ID3_model.fit(X_train, Y_train)\n",
    "test=ID3_model.predict(X_test)\n",
    "accuracy=0;\n",
    "per=1/len(test)\n",
    "for i in range(len(test)):\n",
    "  if test[i]==Y_test[i]:\n",
    "    accuracy+=per\n",
    "################################################# \n",
    "print('Test data prediction accuracy (ID3) : %f'%accuracy)"
   ]
  },
  {
   "cell_type": "markdown",
   "metadata": {
    "colab_type": "text",
    "id": "4adJrG4KwFGu"
   },
   "source": [
    "# # Problem 2\n",
    "CART decision Tree classifier.\n",
    "- scikit-learn의 decision tree는 CART 기반 구현체이다.\n",
    "- Problem 1과 같은 방법으로 CART classifier 모델을 학습시키고 test데이터의 정확도를 출력하시오."
   ]
  },
  {
   "cell_type": "code",
   "execution_count": 38,
   "metadata": {
    "colab": {
     "base_uri": "https://localhost:8080/",
     "height": 34
    },
    "colab_type": "code",
    "id": "xub7uYdEwFGu",
    "outputId": "ac255415-3991-4e9c-ea8c-35a45ec6412b"
   },
   "outputs": [
    {
     "name": "stdout",
     "output_type": "stream",
     "text": [
      "Test data prediction accuracy (CART) : 0.972222\n"
     ]
    }
   ],
   "source": [
    "from sklearn.tree import DecisionTreeClassifier\n",
    "\n",
    "CART_model = None\n",
    "accuracy = None\n",
    "############# Put your code here ################\n",
    "CART_model = DecisionTreeClassifier(random_state=0)\n",
    "CART_model.fit(X_train, Y_train)\n",
    "accuracy=CART_model.score(X_test, Y_test)\n",
    "################################################# \n",
    "print('Test data prediction accuracy (CART) : %f'%accuracy)"
   ]
  },
  {
   "cell_type": "markdown",
   "metadata": {
    "colab_type": "text",
    "id": "u8YIUgHgwFGy"
   },
   "source": [
    "# # Problem 3\n",
    "Random Forest classifier.\n",
    "- scikit-learn의 random forest 패키지를 이용하여 모델을 학습시키고 test데이터의 정확도를 출력하시오."
   ]
  },
  {
   "cell_type": "code",
   "execution_count": 39,
   "metadata": {
    "colab": {
     "base_uri": "https://localhost:8080/",
     "height": 34
    },
    "colab_type": "code",
    "id": "Dl2sukc2wFGy",
    "outputId": "92052da8-7083-42f2-a112-d11364d54c6d"
   },
   "outputs": [
    {
     "name": "stdout",
     "output_type": "stream",
     "text": [
      "Test data prediction accuracy (Random Forest) : 1.000000\n"
     ]
    }
   ],
   "source": [
    "from sklearn.ensemble import RandomForestClassifier\n",
    "\n",
    "Random_Forest_model = None\n",
    "accuracy = None\n",
    "############# Put your code here ################\n",
    "Random_Forest_model = RandomForestClassifier(random_state=0)\n",
    "Random_Forest_model.fit(X_train,Y_train)\n",
    "accuracy=Random_Forest_model.score(X_test, Y_test)\n",
    "################################################# \n",
    "print('Test data prediction accuracy (Random Forest) : %f'%accuracy)"
   ]
  },
  {
   "cell_type": "markdown",
   "metadata": {
    "colab_type": "text",
    "id": "rvtrxXSuwFG2"
   },
   "source": [
    "# # Problem 4\n",
    "XGBoost classifier.\n",
    "- XGBoost 패키지를 pip install을 통해 설치하시오.\n",
    "- 패키지를 불러와 모델을 학습시키고 test데이터의 정확도를 출력하시오."
   ]
  },
  {
   "cell_type": "code",
   "execution_count": 47,
   "metadata": {
    "colab": {
     "base_uri": "https://localhost:8080/",
     "height": 68
    },
    "colab_type": "code",
    "id": "HsdVHPB8wFG2",
    "outputId": "5758e02b-adee-4cf7-c70d-1c454fec3272"
   },
   "outputs": [
    {
     "name": "stdout",
     "output_type": "stream",
     "text": [
      "Updating Homebrew...\n",
      "\u001b[34m==>\u001b[0m \u001b[1mAuto-updated Homebrew!\u001b[0m\n",
      "Updated 1 tap (homebrew/core).\n",
      "\u001b[34m==>\u001b[0m \u001b[1mUpdated Formulae\u001b[0m\n",
      "bat                                      kvazaar\n",
      "\n",
      "\u001b[33mWarning:\u001b[0m libomp 10.0.0 is already installed and up-to-date\n",
      "To reinstall 10.0.0, run `brew reinstall libomp`\n",
      "Requirement already satisfied: xgboost in /Library/Frameworks/Python.framework/Versions/3.6/lib/python3.6/site-packages (0.7.post4)\n",
      "Requirement already satisfied: numpy in /Library/Frameworks/Python.framework/Versions/3.6/lib/python3.6/site-packages (from xgboost) (1.18.3)\n",
      "Requirement already satisfied: scipy in /Library/Frameworks/Python.framework/Versions/3.6/lib/python3.6/site-packages (from xgboost) (1.4.1)\n",
      "python: can't open file 'setup.py': [Errno 2] No such file or directory\n",
      "Collecting xgboost\n",
      "  Using cached xgboost-1.0.2.tar.gz (821 kB)\n",
      "\u001b[31m    ERROR: Command errored out with exit status 1:\n",
      "     command: /Library/Frameworks/Python.framework/Versions/3.6/bin/python3.6 -c 'import sys, setuptools, tokenize; sys.argv[0] = '\"'\"'/private/var/folders/rp/v4y6wsyx7txcqhrkzz3mxg_m0000gn/T/pip-install-ky6nuis9/xgboost/setup.py'\"'\"'; __file__='\"'\"'/private/var/folders/rp/v4y6wsyx7txcqhrkzz3mxg_m0000gn/T/pip-install-ky6nuis9/xgboost/setup.py'\"'\"';f=getattr(tokenize, '\"'\"'open'\"'\"', open)(__file__);code=f.read().replace('\"'\"'\\r\\n'\"'\"', '\"'\"'\\n'\"'\"');f.close();exec(compile(code, __file__, '\"'\"'exec'\"'\"'))' egg_info --egg-base /private/var/folders/rp/v4y6wsyx7txcqhrkzz3mxg_m0000gn/T/pip-install-ky6nuis9/xgboost/pip-egg-info\n",
      "         cwd: /private/var/folders/rp/v4y6wsyx7txcqhrkzz3mxg_m0000gn/T/pip-install-ky6nuis9/xgboost/\n",
      "    Complete output (27 lines):\n",
      "    ++ pwd\n",
      "    + oldpath=/private/var/folders/rp/v4y6wsyx7txcqhrkzz3mxg_m0000gn/T/pip-install-ky6nuis9/xgboost\n",
      "    + cd ./xgboost/\n",
      "    + mkdir -p build\n",
      "    + cd build\n",
      "    + cmake ..\n",
      "    ./xgboost/build-python.sh: line 21: cmake: command not found\n",
      "    + echo -----------------------------\n",
      "    -----------------------------\n",
      "    + echo 'Building multi-thread xgboost failed'\n",
      "    Building multi-thread xgboost failed\n",
      "    + echo 'Start to build single-thread xgboost'\n",
      "    Start to build single-thread xgboost\n",
      "    + cmake .. -DUSE_OPENMP=0\n",
      "    ./xgboost/build-python.sh: line 27: cmake: command not found\n",
      "    Traceback (most recent call last):\n",
      "      File \"<string>\", line 1, in <module>\n",
      "      File \"/private/var/folders/rp/v4y6wsyx7txcqhrkzz3mxg_m0000gn/T/pip-install-ky6nuis9/xgboost/setup.py\", line 42, in <module>\n",
      "        LIB_PATH = libpath['find_lib_path']()\n",
      "      File \"/private/var/folders/rp/v4y6wsyx7txcqhrkzz3mxg_m0000gn/T/pip-install-ky6nuis9/xgboost/xgboost/libpath.py\", line 50, in find_lib_path\n",
      "        'List of candidates:\\n' + ('\\n'.join(dll_path)))\n",
      "    XGBoostLibraryNotFound: Cannot find XGBoost Library in the candidate path, did you install compilers and run build.sh in root path?\n",
      "    List of candidates:\n",
      "    /private/var/folders/rp/v4y6wsyx7txcqhrkzz3mxg_m0000gn/T/pip-install-ky6nuis9/xgboost/xgboost/libxgboost.dylib\n",
      "    /private/var/folders/rp/v4y6wsyx7txcqhrkzz3mxg_m0000gn/T/pip-install-ky6nuis9/xgboost/xgboost/../../lib/libxgboost.dylib\n",
      "    /private/var/folders/rp/v4y6wsyx7txcqhrkzz3mxg_m0000gn/T/pip-install-ky6nuis9/xgboost/xgboost/./lib/libxgboost.dylib\n",
      "    /Library/Frameworks/Python.framework/Versions/3.6/xgboost/libxgboost.dylib\n",
      "    ----------------------------------------\u001b[0m\n",
      "\u001b[31mERROR: Command errored out with exit status 1: python setup.py egg_info Check the logs for full command output.\u001b[0m\n"
     ]
    }
   ],
   "source": [
    "##########Put your installation code here###############\n",
    "!brew install libomp\n",
    "!pip3 install xgboost\n",
    "!pip3 install --upgrade xgboost\n",
    "########################################################"
   ]
  },
  {
   "cell_type": "code",
   "execution_count": 45,
   "metadata": {
    "colab": {
     "base_uri": "https://localhost:8080/",
     "height": 34
    },
    "colab_type": "code",
    "id": "xJ5d44CnwFG5",
    "outputId": "9971580b-7f46-4ef9-ef92-2a57144f5c1f"
   },
   "outputs": [
    {
     "ename": "AttributeError",
     "evalue": "module 'xgboost' has no attribute 'XGBClassifier'",
     "output_type": "error",
     "traceback": [
      "\u001b[0;31m---------------------------------------------------------------------------\u001b[0m",
      "\u001b[0;31mAttributeError\u001b[0m                            Traceback (most recent call last)",
      "\u001b[0;32m<ipython-input-45-ff760f14359f>\u001b[0m in \u001b[0;36m<module>\u001b[0;34m\u001b[0m\n\u001b[1;32m      4\u001b[0m \u001b[0maccuracy\u001b[0m \u001b[0;34m=\u001b[0m \u001b[0;32mNone\u001b[0m\u001b[0;34m\u001b[0m\u001b[0;34m\u001b[0m\u001b[0m\n\u001b[1;32m      5\u001b[0m \u001b[0;31m############# Put your code here ################\u001b[0m\u001b[0;34m\u001b[0m\u001b[0;34m\u001b[0m\u001b[0;34m\u001b[0m\u001b[0m\n\u001b[0;32m----> 6\u001b[0;31m \u001b[0mXGB_model\u001b[0m \u001b[0;34m=\u001b[0m \u001b[0mxgb\u001b[0m\u001b[0;34m.\u001b[0m\u001b[0mXGBClassifier\u001b[0m\u001b[0;34m(\u001b[0m\u001b[0;34m)\u001b[0m\u001b[0;34m\u001b[0m\u001b[0;34m\u001b[0m\u001b[0m\n\u001b[0m\u001b[1;32m      7\u001b[0m \u001b[0mXGB_model\u001b[0m\u001b[0;34m.\u001b[0m\u001b[0mfit\u001b[0m\u001b[0;34m(\u001b[0m\u001b[0mX_train\u001b[0m\u001b[0;34m,\u001b[0m \u001b[0mY_train\u001b[0m\u001b[0;34m)\u001b[0m\u001b[0;34m\u001b[0m\u001b[0;34m\u001b[0m\u001b[0m\n\u001b[1;32m      8\u001b[0m \u001b[0mtest\u001b[0m\u001b[0;34m=\u001b[0m\u001b[0mXGB_model\u001b[0m\u001b[0;34m.\u001b[0m\u001b[0mpredict\u001b[0m\u001b[0;34m(\u001b[0m\u001b[0mX_test\u001b[0m\u001b[0;34m)\u001b[0m\u001b[0;34m\u001b[0m\u001b[0;34m\u001b[0m\u001b[0m\n",
      "\u001b[0;31mAttributeError\u001b[0m: module 'xgboost' has no attribute 'XGBClassifier'"
     ]
    }
   ],
   "source": [
    "import xgboost as xgb\n",
    "\n",
    "XGB_model = None\n",
    "accuracy = None\n",
    "############# Put your code here ################\n",
    "XGB_model = xgb.XGBClassifier()\n",
    "XGB_model.fit(X_train, Y_train)\n",
    "test=XGB_model.predict(X_test)\n",
    "accuracy=0;\n",
    "per=1/len(test)\n",
    "for i in range(len(test)):\n",
    "  if test[i]==Y_test[i]:\n",
    "    accuracy+=per\n",
    "################################################# \n",
    "print('Test data prediction accuracy (XGBoost) : %f'%accuracy)"
   ]
  },
  {
   "cell_type": "markdown",
   "metadata": {
    "colab_type": "text",
    "id": "WmjWdOSOwFG-"
   },
   "source": [
    "# # Problem 5\n",
    "LightGBM classifier.\n",
    "- LighGBM 패키지를 pip install을 통해 설치하시오.\n",
    "- 패키지를 불러와 모델을 학습시키고 test데이터의 정확도를 출력하시오."
   ]
  },
  {
   "cell_type": "code",
   "execution_count": null,
   "metadata": {
    "colab": {
     "base_uri": "https://localhost:8080/",
     "height": 102
    },
    "colab_type": "code",
    "id": "7IbrcMR3wFG-",
    "outputId": "f2f8229d-3ca9-4fd7-ddd4-d024bd070e3c"
   },
   "outputs": [],
   "source": [
    "##########Put your installation code here###############\n",
    "!pip install LightGBM\n",
    "########################################################"
   ]
  },
  {
   "cell_type": "code",
   "execution_count": 0,
   "metadata": {
    "colab": {
     "base_uri": "https://localhost:8080/",
     "height": 1000
    },
    "colab_type": "code",
    "id": "ow26Nbe9wFHB",
    "outputId": "8e915768-e575-4867-f08d-cf5b9c837789"
   },
   "outputs": [
    {
     "name": "stdout",
     "output_type": "stream",
     "text": [
      "[1]\tvalid_0's multi_logloss: 0.979396\tvalid_0's multi_logloss: 0.979396\n",
      "Training until validation scores don't improve for 100 rounds.\n",
      "[2]\tvalid_0's multi_logloss: 0.88941\tvalid_0's multi_logloss: 0.88941\n",
      "[3]\tvalid_0's multi_logloss: 0.811283\tvalid_0's multi_logloss: 0.811283\n",
      "[4]\tvalid_0's multi_logloss: 0.746204\tvalid_0's multi_logloss: 0.746204\n",
      "[5]\tvalid_0's multi_logloss: 0.687211\tvalid_0's multi_logloss: 0.687211\n",
      "[6]\tvalid_0's multi_logloss: 0.636818\tvalid_0's multi_logloss: 0.636818\n",
      "[7]\tvalid_0's multi_logloss: 0.591341\tvalid_0's multi_logloss: 0.591341\n",
      "[8]\tvalid_0's multi_logloss: 0.55188\tvalid_0's multi_logloss: 0.55188\n",
      "[9]\tvalid_0's multi_logloss: 0.518601\tvalid_0's multi_logloss: 0.518601\n",
      "[10]\tvalid_0's multi_logloss: 0.485772\tvalid_0's multi_logloss: 0.485772\n",
      "[11]\tvalid_0's multi_logloss: 0.455005\tvalid_0's multi_logloss: 0.455005\n",
      "[12]\tvalid_0's multi_logloss: 0.429002\tvalid_0's multi_logloss: 0.429002\n",
      "[13]\tvalid_0's multi_logloss: 0.407913\tvalid_0's multi_logloss: 0.407913\n",
      "[14]\tvalid_0's multi_logloss: 0.386477\tvalid_0's multi_logloss: 0.386477\n",
      "[15]\tvalid_0's multi_logloss: 0.367299\tvalid_0's multi_logloss: 0.367299\n",
      "[16]\tvalid_0's multi_logloss: 0.347445\tvalid_0's multi_logloss: 0.347445\n",
      "[17]\tvalid_0's multi_logloss: 0.324907\tvalid_0's multi_logloss: 0.324907\n",
      "[18]\tvalid_0's multi_logloss: 0.30712\tvalid_0's multi_logloss: 0.30712\n",
      "[19]\tvalid_0's multi_logloss: 0.297891\tvalid_0's multi_logloss: 0.297891\n",
      "[20]\tvalid_0's multi_logloss: 0.280984\tvalid_0's multi_logloss: 0.280984\n",
      "[21]\tvalid_0's multi_logloss: 0.267632\tvalid_0's multi_logloss: 0.267632\n",
      "[22]\tvalid_0's multi_logloss: 0.252837\tvalid_0's multi_logloss: 0.252837\n",
      "[23]\tvalid_0's multi_logloss: 0.240502\tvalid_0's multi_logloss: 0.240502\n",
      "[24]\tvalid_0's multi_logloss: 0.227634\tvalid_0's multi_logloss: 0.227634\n",
      "[25]\tvalid_0's multi_logloss: 0.218036\tvalid_0's multi_logloss: 0.218036\n",
      "[26]\tvalid_0's multi_logloss: 0.206291\tvalid_0's multi_logloss: 0.206291\n",
      "[27]\tvalid_0's multi_logloss: 0.198413\tvalid_0's multi_logloss: 0.198413\n",
      "[28]\tvalid_0's multi_logloss: 0.186279\tvalid_0's multi_logloss: 0.186279\n",
      "[29]\tvalid_0's multi_logloss: 0.180819\tvalid_0's multi_logloss: 0.180819\n",
      "[30]\tvalid_0's multi_logloss: 0.175535\tvalid_0's multi_logloss: 0.175535\n",
      "[31]\tvalid_0's multi_logloss: 0.170113\tvalid_0's multi_logloss: 0.170113\n",
      "[32]\tvalid_0's multi_logloss: 0.161815\tvalid_0's multi_logloss: 0.161815\n",
      "[33]\tvalid_0's multi_logloss: 0.157389\tvalid_0's multi_logloss: 0.157389\n",
      "[34]\tvalid_0's multi_logloss: 0.150153\tvalid_0's multi_logloss: 0.150153\n",
      "[35]\tvalid_0's multi_logloss: 0.145504\tvalid_0's multi_logloss: 0.145504\n",
      "[36]\tvalid_0's multi_logloss: 0.139218\tvalid_0's multi_logloss: 0.139218\n",
      "[37]\tvalid_0's multi_logloss: 0.137512\tvalid_0's multi_logloss: 0.137512\n",
      "[38]\tvalid_0's multi_logloss: 0.133158\tvalid_0's multi_logloss: 0.133158\n",
      "[39]\tvalid_0's multi_logloss: 0.132956\tvalid_0's multi_logloss: 0.132956\n",
      "[40]\tvalid_0's multi_logloss: 0.127877\tvalid_0's multi_logloss: 0.127877\n",
      "[41]\tvalid_0's multi_logloss: 0.124857\tvalid_0's multi_logloss: 0.124857\n",
      "[42]\tvalid_0's multi_logloss: 0.122563\tvalid_0's multi_logloss: 0.122563\n",
      "[43]\tvalid_0's multi_logloss: 0.122593\tvalid_0's multi_logloss: 0.122593\n",
      "[44]\tvalid_0's multi_logloss: 0.115791\tvalid_0's multi_logloss: 0.115791\n",
      "[45]\tvalid_0's multi_logloss: 0.11632\tvalid_0's multi_logloss: 0.11632\n",
      "[46]\tvalid_0's multi_logloss: 0.110355\tvalid_0's multi_logloss: 0.110355\n",
      "[47]\tvalid_0's multi_logloss: 0.110727\tvalid_0's multi_logloss: 0.110727\n",
      "[48]\tvalid_0's multi_logloss: 0.107262\tvalid_0's multi_logloss: 0.107262\n",
      "[49]\tvalid_0's multi_logloss: 0.105826\tvalid_0's multi_logloss: 0.105826\n",
      "[50]\tvalid_0's multi_logloss: 0.104974\tvalid_0's multi_logloss: 0.104974\n",
      "[51]\tvalid_0's multi_logloss: 0.104133\tvalid_0's multi_logloss: 0.104133\n",
      "[52]\tvalid_0's multi_logloss: 0.0999756\tvalid_0's multi_logloss: 0.0999756\n",
      "[53]\tvalid_0's multi_logloss: 0.101347\tvalid_0's multi_logloss: 0.101347\n",
      "[54]\tvalid_0's multi_logloss: 0.102756\tvalid_0's multi_logloss: 0.102756\n",
      "[55]\tvalid_0's multi_logloss: 0.100255\tvalid_0's multi_logloss: 0.100255\n",
      "[56]\tvalid_0's multi_logloss: 0.100393\tvalid_0's multi_logloss: 0.100393\n",
      "[57]\tvalid_0's multi_logloss: 0.0981712\tvalid_0's multi_logloss: 0.0981712\n",
      "[58]\tvalid_0's multi_logloss: 0.097393\tvalid_0's multi_logloss: 0.097393\n",
      "[59]\tvalid_0's multi_logloss: 0.0971922\tvalid_0's multi_logloss: 0.0971922\n",
      "[60]\tvalid_0's multi_logloss: 0.0921518\tvalid_0's multi_logloss: 0.0921518\n",
      "[61]\tvalid_0's multi_logloss: 0.0940096\tvalid_0's multi_logloss: 0.0940096\n",
      "[62]\tvalid_0's multi_logloss: 0.0901737\tvalid_0's multi_logloss: 0.0901737\n",
      "[63]\tvalid_0's multi_logloss: 0.0917811\tvalid_0's multi_logloss: 0.0917811\n",
      "[64]\tvalid_0's multi_logloss: 0.0872063\tvalid_0's multi_logloss: 0.0872063\n",
      "[65]\tvalid_0's multi_logloss: 0.0894879\tvalid_0's multi_logloss: 0.0894879\n",
      "[66]\tvalid_0's multi_logloss: 0.0899674\tvalid_0's multi_logloss: 0.0899674\n",
      "[67]\tvalid_0's multi_logloss: 0.0894289\tvalid_0's multi_logloss: 0.0894289\n",
      "[68]\tvalid_0's multi_logloss: 0.0876488\tvalid_0's multi_logloss: 0.0876488\n",
      "[69]\tvalid_0's multi_logloss: 0.090225\tvalid_0's multi_logloss: 0.090225\n",
      "[70]\tvalid_0's multi_logloss: 0.0870046\tvalid_0's multi_logloss: 0.0870046\n",
      "[71]\tvalid_0's multi_logloss: 0.0873341\tvalid_0's multi_logloss: 0.0873341\n",
      "[72]\tvalid_0's multi_logloss: 0.0869272\tvalid_0's multi_logloss: 0.0869272\n",
      "[73]\tvalid_0's multi_logloss: 0.0854177\tvalid_0's multi_logloss: 0.0854177\n",
      "[74]\tvalid_0's multi_logloss: 0.0857002\tvalid_0's multi_logloss: 0.0857002\n",
      "[75]\tvalid_0's multi_logloss: 0.0862857\tvalid_0's multi_logloss: 0.0862857\n",
      "[76]\tvalid_0's multi_logloss: 0.0886668\tvalid_0's multi_logloss: 0.0886668\n",
      "[77]\tvalid_0's multi_logloss: 0.0891675\tvalid_0's multi_logloss: 0.0891675\n",
      "[78]\tvalid_0's multi_logloss: 0.0852031\tvalid_0's multi_logloss: 0.0852031\n",
      "[79]\tvalid_0's multi_logloss: 0.0807799\tvalid_0's multi_logloss: 0.0807799\n",
      "[80]\tvalid_0's multi_logloss: 0.078306\tvalid_0's multi_logloss: 0.078306\n",
      "[81]\tvalid_0's multi_logloss: 0.0808701\tvalid_0's multi_logloss: 0.0808701\n",
      "[82]\tvalid_0's multi_logloss: 0.0793529\tvalid_0's multi_logloss: 0.0793529\n",
      "[83]\tvalid_0's multi_logloss: 0.0791722\tvalid_0's multi_logloss: 0.0791722\n",
      "[84]\tvalid_0's multi_logloss: 0.0792732\tvalid_0's multi_logloss: 0.0792732\n",
      "[85]\tvalid_0's multi_logloss: 0.0775495\tvalid_0's multi_logloss: 0.0775495\n",
      "[86]\tvalid_0's multi_logloss: 0.0797703\tvalid_0's multi_logloss: 0.0797703\n",
      "[87]\tvalid_0's multi_logloss: 0.0824958\tvalid_0's multi_logloss: 0.0824958\n",
      "[88]\tvalid_0's multi_logloss: 0.0782643\tvalid_0's multi_logloss: 0.0782643\n",
      "[89]\tvalid_0's multi_logloss: 0.0781225\tvalid_0's multi_logloss: 0.0781225\n",
      "[90]\tvalid_0's multi_logloss: 0.0767051\tvalid_0's multi_logloss: 0.0767051\n",
      "[91]\tvalid_0's multi_logloss: 0.0793045\tvalid_0's multi_logloss: 0.0793045\n",
      "[92]\tvalid_0's multi_logloss: 0.0777968\tvalid_0's multi_logloss: 0.0777968\n",
      "[93]\tvalid_0's multi_logloss: 0.077412\tvalid_0's multi_logloss: 0.077412\n",
      "[94]\tvalid_0's multi_logloss: 0.0734765\tvalid_0's multi_logloss: 0.0734765\n",
      "[95]\tvalid_0's multi_logloss: 0.0717526\tvalid_0's multi_logloss: 0.0717526\n",
      "[96]\tvalid_0's multi_logloss: 0.0742456\tvalid_0's multi_logloss: 0.0742456\n",
      "[97]\tvalid_0's multi_logloss: 0.0729923\tvalid_0's multi_logloss: 0.0729923\n",
      "[98]\tvalid_0's multi_logloss: 0.072883\tvalid_0's multi_logloss: 0.072883\n",
      "[99]\tvalid_0's multi_logloss: 0.0730289\tvalid_0's multi_logloss: 0.0730289\n",
      "[100]\tvalid_0's multi_logloss: 0.0716002\tvalid_0's multi_logloss: 0.0716002\n",
      "[101]\tvalid_0's multi_logloss: 0.0713913\tvalid_0's multi_logloss: 0.0713913\n",
      "[102]\tvalid_0's multi_logloss: 0.0724841\tvalid_0's multi_logloss: 0.0724841\n",
      "[103]\tvalid_0's multi_logloss: 0.0748949\tvalid_0's multi_logloss: 0.0748949\n",
      "[104]\tvalid_0's multi_logloss: 0.0756708\tvalid_0's multi_logloss: 0.0756708\n",
      "[105]\tvalid_0's multi_logloss: 0.0742835\tvalid_0's multi_logloss: 0.0742835\n",
      "[106]\tvalid_0's multi_logloss: 0.0740938\tvalid_0's multi_logloss: 0.0740938\n",
      "[107]\tvalid_0's multi_logloss: 0.0702553\tvalid_0's multi_logloss: 0.0702553\n",
      "[108]\tvalid_0's multi_logloss: 0.0705308\tvalid_0's multi_logloss: 0.0705308\n",
      "[109]\tvalid_0's multi_logloss: 0.0712828\tvalid_0's multi_logloss: 0.0712828\n",
      "[110]\tvalid_0's multi_logloss: 0.0699779\tvalid_0's multi_logloss: 0.0699779\n",
      "[111]\tvalid_0's multi_logloss: 0.0724983\tvalid_0's multi_logloss: 0.0724983\n",
      "[112]\tvalid_0's multi_logloss: 0.0685922\tvalid_0's multi_logloss: 0.0685922\n",
      "[113]\tvalid_0's multi_logloss: 0.0686076\tvalid_0's multi_logloss: 0.0686076\n",
      "[114]\tvalid_0's multi_logloss: 0.0673627\tvalid_0's multi_logloss: 0.0673627\n",
      "[115]\tvalid_0's multi_logloss: 0.0685796\tvalid_0's multi_logloss: 0.0685796\n",
      "[116]\tvalid_0's multi_logloss: 0.0685055\tvalid_0's multi_logloss: 0.0685055\n",
      "[117]\tvalid_0's multi_logloss: 0.0672346\tvalid_0's multi_logloss: 0.0672346\n",
      "[118]\tvalid_0's multi_logloss: 0.0697631\tvalid_0's multi_logloss: 0.0697631\n",
      "[119]\tvalid_0's multi_logloss: 0.0659049\tvalid_0's multi_logloss: 0.0659049\n",
      "[120]\tvalid_0's multi_logloss: 0.0684012\tvalid_0's multi_logloss: 0.0684012\n",
      "[121]\tvalid_0's multi_logloss: 0.064487\tvalid_0's multi_logloss: 0.064487\n",
      "[122]\tvalid_0's multi_logloss: 0.0640955\tvalid_0's multi_logloss: 0.0640955\n",
      "[123]\tvalid_0's multi_logloss: 0.0665347\tvalid_0's multi_logloss: 0.0665347\n",
      "[124]\tvalid_0's multi_logloss: 0.0690671\tvalid_0's multi_logloss: 0.0690671\n",
      "[125]\tvalid_0's multi_logloss: 0.0652014\tvalid_0's multi_logloss: 0.0652014\n",
      "[126]\tvalid_0's multi_logloss: 0.0636183\tvalid_0's multi_logloss: 0.0636183\n",
      "[127]\tvalid_0's multi_logloss: 0.0644315\tvalid_0's multi_logloss: 0.0644315\n",
      "[128]\tvalid_0's multi_logloss: 0.0658517\tvalid_0's multi_logloss: 0.0658517\n",
      "[129]\tvalid_0's multi_logloss: 0.0658357\tvalid_0's multi_logloss: 0.0658357\n",
      "[130]\tvalid_0's multi_logloss: 0.0666904\tvalid_0's multi_logloss: 0.0666904\n",
      "[131]\tvalid_0's multi_logloss: 0.0692269\tvalid_0's multi_logloss: 0.0692269\n",
      "[132]\tvalid_0's multi_logloss: 0.0662312\tvalid_0's multi_logloss: 0.0662312\n",
      "[133]\tvalid_0's multi_logloss: 0.0662441\tvalid_0's multi_logloss: 0.0662441\n",
      "[134]\tvalid_0's multi_logloss: 0.0675852\tvalid_0's multi_logloss: 0.0675852\n",
      "[135]\tvalid_0's multi_logloss: 0.0701557\tvalid_0's multi_logloss: 0.0701557\n",
      "[136]\tvalid_0's multi_logloss: 0.0662601\tvalid_0's multi_logloss: 0.0662601\n",
      "[137]\tvalid_0's multi_logloss: 0.0673989\tvalid_0's multi_logloss: 0.0673989\n",
      "[138]\tvalid_0's multi_logloss: 0.0699642\tvalid_0's multi_logloss: 0.0699642\n",
      "[139]\tvalid_0's multi_logloss: 0.0687121\tvalid_0's multi_logloss: 0.0687121\n",
      "[140]\tvalid_0's multi_logloss: 0.0686592\tvalid_0's multi_logloss: 0.0686592\n",
      "[141]\tvalid_0's multi_logloss: 0.066951\tvalid_0's multi_logloss: 0.066951\n",
      "[142]\tvalid_0's multi_logloss: 0.0695567\tvalid_0's multi_logloss: 0.0695567\n",
      "[143]\tvalid_0's multi_logloss: 0.0683247\tvalid_0's multi_logloss: 0.0683247\n",
      "[144]\tvalid_0's multi_logloss: 0.0682722\tvalid_0's multi_logloss: 0.0682722\n",
      "[145]\tvalid_0's multi_logloss: 0.0670426\tvalid_0's multi_logloss: 0.0670426\n",
      "[146]\tvalid_0's multi_logloss: 0.0670099\tvalid_0's multi_logloss: 0.0670099\n",
      "[147]\tvalid_0's multi_logloss: 0.0631735\tvalid_0's multi_logloss: 0.0631735\n",
      "[148]\tvalid_0's multi_logloss: 0.0630116\tvalid_0's multi_logloss: 0.0630116\n",
      "[149]\tvalid_0's multi_logloss: 0.0642414\tvalid_0's multi_logloss: 0.0642414\n",
      "[150]\tvalid_0's multi_logloss: 0.0667309\tvalid_0's multi_logloss: 0.0667309\n",
      "[151]\tvalid_0's multi_logloss: 0.0638751\tvalid_0's multi_logloss: 0.0638751\n",
      "[152]\tvalid_0's multi_logloss: 0.0663421\tvalid_0's multi_logloss: 0.0663421\n",
      "[153]\tvalid_0's multi_logloss: 0.0639926\tvalid_0's multi_logloss: 0.0639926\n",
      "[154]\tvalid_0's multi_logloss: 0.0665318\tvalid_0's multi_logloss: 0.0665318\n",
      "[155]\tvalid_0's multi_logloss: 0.0638179\tvalid_0's multi_logloss: 0.0638179\n",
      "[156]\tvalid_0's multi_logloss: 0.0663347\tvalid_0's multi_logloss: 0.0663347\n",
      "[157]\tvalid_0's multi_logloss: 0.0625519\tvalid_0's multi_logloss: 0.0625519\n",
      "[158]\tvalid_0's multi_logloss: 0.0635483\tvalid_0's multi_logloss: 0.0635483\n",
      "[159]\tvalid_0's multi_logloss: 0.0624632\tvalid_0's multi_logloss: 0.0624632\n",
      "[160]\tvalid_0's multi_logloss: 0.0624677\tvalid_0's multi_logloss: 0.0624677\n",
      "[161]\tvalid_0's multi_logloss: 0.062128\tvalid_0's multi_logloss: 0.062128\n",
      "[162]\tvalid_0's multi_logloss: 0.0645893\tvalid_0's multi_logloss: 0.0645893\n",
      "[163]\tvalid_0's multi_logloss: 0.0619227\tvalid_0's multi_logloss: 0.0619227\n",
      "[164]\tvalid_0's multi_logloss: 0.0643327\tvalid_0's multi_logloss: 0.0643327\n",
      "[165]\tvalid_0's multi_logloss: 0.0612864\tvalid_0's multi_logloss: 0.0612864\n",
      "[166]\tvalid_0's multi_logloss: 0.0577211\tvalid_0's multi_logloss: 0.0577211\n",
      "[167]\tvalid_0's multi_logloss: 0.0565541\tvalid_0's multi_logloss: 0.0565541\n",
      "[168]\tvalid_0's multi_logloss: 0.0588142\tvalid_0's multi_logloss: 0.0588142\n",
      "[169]\tvalid_0's multi_logloss: 0.0572177\tvalid_0's multi_logloss: 0.0572177\n",
      "[170]\tvalid_0's multi_logloss: 0.0576746\tvalid_0's multi_logloss: 0.0576746\n",
      "[171]\tvalid_0's multi_logloss: 0.0568193\tvalid_0's multi_logloss: 0.0568193\n",
      "[172]\tvalid_0's multi_logloss: 0.0574466\tvalid_0's multi_logloss: 0.0574466\n",
      "[173]\tvalid_0's multi_logloss: 0.0549288\tvalid_0's multi_logloss: 0.0549288\n",
      "[174]\tvalid_0's multi_logloss: 0.0556685\tvalid_0's multi_logloss: 0.0556685\n",
      "[175]\tvalid_0's multi_logloss: 0.0548382\tvalid_0's multi_logloss: 0.0548382\n",
      "[176]\tvalid_0's multi_logloss: 0.0540356\tvalid_0's multi_logloss: 0.0540356\n",
      "[177]\tvalid_0's multi_logloss: 0.0532109\tvalid_0's multi_logloss: 0.0532109\n",
      "[178]\tvalid_0's multi_logloss: 0.0508561\tvalid_0's multi_logloss: 0.0508561\n",
      "[179]\tvalid_0's multi_logloss: 0.0504698\tvalid_0's multi_logloss: 0.0504698\n",
      "[180]\tvalid_0's multi_logloss: 0.0496922\tvalid_0's multi_logloss: 0.0496922\n",
      "[181]\tvalid_0's multi_logloss: 0.0477725\tvalid_0's multi_logloss: 0.0477725\n",
      "[182]\tvalid_0's multi_logloss: 0.0457618\tvalid_0's multi_logloss: 0.0457618\n",
      "[183]\tvalid_0's multi_logloss: 0.0451379\tvalid_0's multi_logloss: 0.0451379\n",
      "[184]\tvalid_0's multi_logloss: 0.0434656\tvalid_0's multi_logloss: 0.0434656\n",
      "[185]\tvalid_0's multi_logloss: 0.0429129\tvalid_0's multi_logloss: 0.0429129\n",
      "[186]\tvalid_0's multi_logloss: 0.0420495\tvalid_0's multi_logloss: 0.0420495\n",
      "[187]\tvalid_0's multi_logloss: 0.0422445\tvalid_0's multi_logloss: 0.0422445\n",
      "[188]\tvalid_0's multi_logloss: 0.0414301\tvalid_0's multi_logloss: 0.0414301\n",
      "[189]\tvalid_0's multi_logloss: 0.0416168\tvalid_0's multi_logloss: 0.0416168\n",
      "[190]\tvalid_0's multi_logloss: 0.0417892\tvalid_0's multi_logloss: 0.0417892\n",
      "[191]\tvalid_0's multi_logloss: 0.0410728\tvalid_0's multi_logloss: 0.0410728\n",
      "[192]\tvalid_0's multi_logloss: 0.0406021\tvalid_0's multi_logloss: 0.0406021\n",
      "[193]\tvalid_0's multi_logloss: 0.0406069\tvalid_0's multi_logloss: 0.0406069\n",
      "[194]\tvalid_0's multi_logloss: 0.0399344\tvalid_0's multi_logloss: 0.0399344\n",
      "[195]\tvalid_0's multi_logloss: 0.0394847\tvalid_0's multi_logloss: 0.0394847\n",
      "[196]\tvalid_0's multi_logloss: 0.0394937\tvalid_0's multi_logloss: 0.0394937\n",
      "[197]\tvalid_0's multi_logloss: 0.0390589\tvalid_0's multi_logloss: 0.0390589\n",
      "[198]\tvalid_0's multi_logloss: 0.0386534\tvalid_0's multi_logloss: 0.0386534\n",
      "[199]\tvalid_0's multi_logloss: 0.0380388\tvalid_0's multi_logloss: 0.0380388\n",
      "[200]\tvalid_0's multi_logloss: 0.0380512\tvalid_0's multi_logloss: 0.0380512\n",
      "Did not meet early stopping. Best iteration is:\n",
      "[199]\tvalid_0's multi_logloss: 0.0380388\tvalid_0's multi_logloss: 0.0380388\n",
      "Test data prediction accuracy (LightGBM) : 0.972222\n"
     ]
    }
   ],
   "source": [
    "import lightgbm as lgb\n",
    "\n",
    "LGBM_model = None\n",
    "accuracy = None\n",
    "############# Put your code here ################\n",
    "LGBM_model = lgb.LGBMClassifier(n_estimators=200)\n",
    "LGBM_model.fit(X_train,Y_train,early_stopping_rounds=100,eval_metric=\"logloss\",eval_set=[(X_test,Y_test)],verbose= True )\n",
    "test = LGBM_model.predict(X_test)\n",
    "accuracy=0;\n",
    "per=1/len(test)\n",
    "for i in range(len(test)):\n",
    "  if test[i]==Y_test[i]:\n",
    "    accuracy+=per\n",
    "################################################# \n",
    "print('Test data prediction accuracy (LightGBM) : %f'%accuracy)"
   ]
  },
  {
   "cell_type": "markdown",
   "metadata": {
    "colab_type": "text",
    "id": "ZjjezdGewFHF"
   },
   "source": [
    "# # Problem 6\n",
    "Naive Bayes classifier.\n",
    "- Scikit-learn의 Gaussian Naive Bayes classifier를 불러와 학습시키고, test데이터의 정확도를 출력하시오."
   ]
  },
  {
   "cell_type": "code",
   "execution_count": 0,
   "metadata": {
    "colab": {
     "base_uri": "https://localhost:8080/",
     "height": 34
    },
    "colab_type": "code",
    "id": "jHgCTjL7wFHF",
    "outputId": "97414991-cc4f-46da-a2f5-74f74f127406"
   },
   "outputs": [
    {
     "name": "stdout",
     "output_type": "stream",
     "text": [
      "Test data prediction accuracy (NaiveBayes) : 0.972222\n"
     ]
    }
   ],
   "source": [
    "from sklearn.naive_bayes import GaussianNB\n",
    "\n",
    "NB_model = None\n",
    "accuracy = None\n",
    "############# Put your code here ################\n",
    "NB_model = GaussianNB()\n",
    "NB_model.fit(X_train, Y_train)\n",
    "test = NB_model.predict(X_test)\n",
    "accuracy=0;\n",
    "per=1/len(test)\n",
    "for i in range(len(test)):\n",
    "  if test[i]==Y_test[i]:\n",
    "    accuracy+=per       \n",
    "################################################# \n",
    "print('Test data prediction accuracy (NaiveBayes) : %f'%accuracy)"
   ]
  },
  {
   "cell_type": "markdown",
   "metadata": {
    "colab_type": "text",
    "id": "DcKTOj1jwFHI"
   },
   "source": [
    "# # Problem 7\n",
    "Ensemble classifier.\n",
    "- 위의 6개의 모델(ID3, CART, Random Forest, XGBoost, LightGBM, Naive Bayes)을 이용하여 Voting(6개의 예측 label중 가장 많이 예측된 label을 최종 prediction label로 택하는것)방법으로 최종 label을 택한 뒤, 예측 정확도를 출력하시오.\n",
    "- Scikit-learn의 VotingClassifier 패키지를 사용하여 작성.\n",
    "- 위에서 학습시킨 모델 변수명 사용 가능."
   ]
  },
  {
   "cell_type": "code",
   "execution_count": 0,
   "metadata": {
    "colab": {
     "base_uri": "https://localhost:8080/",
     "height": 34
    },
    "colab_type": "code",
    "id": "isP0yhVjwFHI",
    "outputId": "4621fbfe-e2b6-404c-c2c3-676b44153c4f"
   },
   "outputs": [
    {
     "name": "stdout",
     "output_type": "stream",
     "text": [
      "Test data prediction accuracy (Ensemble) : 1.000000\n"
     ]
    }
   ],
   "source": [
    "from sklearn.ensemble import VotingClassifier\n",
    "\n",
    "ensemble_classifier = None\n",
    "accuracy = None\n",
    "############# Put your code here ################\n",
    "ensemble_classifier = VotingClassifier([\n",
    "                        #('ID3',ID3_model),\n",
    "                        ('CART', DecisionTreeClassifier(random_state=0)),\n",
    "                        ('Random Forest', RandomForestClassifier(random_state=0)),\n",
    "                        ('XGBoost',xgb.XGBClassifier()),\n",
    "                        ('LightGBM',lgb.LGBMClassifier(n_estimators=200)),\n",
    "                        ('Naive Bayes',GaussianNB())\n",
    "                        ])\n",
    "\n",
    "ensemble_classifier.fit(X_train,Y_train);\n",
    "accuracy=ensemble_classifier.score(X_test, Y_test)\n",
    "################################################# \n",
    "print('Test data prediction accuracy (Ensemble) : %f'%accuracy)"
   ]
  }
 ],
 "metadata": {
  "colab": {
   "collapsed_sections": [],
   "name": "DM_Assignment_3.ipynb",
   "provenance": []
  },
  "kernelspec": {
   "display_name": "Python 3",
   "language": "python",
   "name": "python3"
  },
  "language_info": {
   "codemirror_mode": {
    "name": "ipython",
    "version": 3
   },
   "file_extension": ".py",
   "mimetype": "text/x-python",
   "name": "python",
   "nbconvert_exporter": "python",
   "pygments_lexer": "ipython3",
   "version": "3.7.6"
  }
 },
 "nbformat": 4,
 "nbformat_minor": 1
}
